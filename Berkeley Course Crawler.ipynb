{
 "cells": [
  {
   "cell_type": "markdown",
   "metadata": {},
   "source": [
    "# Berkeley Course Crawler"
   ]
  },
  {
   "cell_type": "markdown",
   "metadata": {},
   "source": [
    "This crawler helps you extract more detailed information from Berkeley Course webpage. Follow the steps below, and have your excel/google sheet/database prepared. You can organize your short list of courses."
   ]
  },
  {
   "cell_type": "code",
   "execution_count": 1,
   "metadata": {
    "hideCode": false,
    "hidePrompt": false,
    "scrolled": true
   },
   "outputs": [],
   "source": [
    "# -*- coding: utf-8 -*-\n",
    "\"\"\"\n",
    "Created on Sat Jul  4 23:32:27 2020\n",
    "\n",
    "@author: You, Bo-Xiang\n",
    "\"\"\"\n",
    "\n",
    "\n",
    "def course_extract(url):\n",
    "    \n",
    "    import requests\n",
    "    from datetime import datetime, timedelta\n",
    "    import json\n",
    "    import pandas as pd\n",
    "    from bs4 import BeautifulSoup\n",
    "    \n",
    "    r = requests.get(url)\n",
    "    soup = BeautifulSoup(r.text, \"html.parser\")\n",
    "    query = soup.find(\"div\", class_=\"handlebarData theme_is_whitehot\").attrs\n",
    "    js_str = query[\"data-json\"]\n",
    "    js_dict = json.loads(js_str)\n",
    "    course_num = js_dict[\"displayName\"]\n",
    "    serial_num = js_dict[\"id\"]\n",
    "    name = js_dict[\"course\"][\"title\"]\n",
    "    level = js_dict[\"course\"][\"academicCareer\"][\"description\"]\n",
    "    lecture = js_dict[\"component\"][\"description\"]\n",
    "    \n",
    "    try:\n",
    "        mode = js_dict[\"attributes\"][\"WEB\"][0][\"value\"][\"formalDescription\"]\n",
    "    except KeyError:\n",
    "        mode = \"Pending Reviews\"\n",
    "    \n",
    "    instructor = js_dict[\"meetings\"][0][\"assignedInstructors\"]\n",
    "    instructors = ', '.join([str(i[\"instructor\"][\"names\"][1][\"formattedName\"]) for i in instructor])\n",
    "    \n",
    "    try:\n",
    "        units = js_dict[\"course\"][\"credit\"][\"value\"][\"fixed\"][\"units\"]\n",
    "    except KeyError:\n",
    "        units = ' to '.join([str(js_dict[\"course\"][\"credit\"][\"value\"][\"range\"][\"minUnits\"]), str(js_dict[\"course\"][\"credit\"][\"value\"][\"range\"][\"maxUnits\"])])\n",
    "    \n",
    "    # date-time process\n",
    "    fake_date = []\n",
    "    if js_dict[\"meetings\"][0][\"meetsMonday\"]:\n",
    "        fake_date.append(datetime(2020,7,6).date())\n",
    "    if js_dict[\"meetings\"][0][\"meetsTuesday\"]:\n",
    "        fake_date.append(datetime(2020,7,7).date())\n",
    "    if js_dict[\"meetings\"][0][\"meetsWednesday\"]:\n",
    "        fake_date.append(datetime(2020,7,8).date())\n",
    "    if js_dict[\"meetings\"][0][\"meetsThursday\"]:\n",
    "        fake_date.append(datetime(2020,7,9).date())\n",
    "    if js_dict[\"meetings\"][0][\"meetsFriday\"]:\n",
    "        fake_date.append(datetime(2020,7,10).date())\n",
    "    fake_starttime = datetime.strptime(js_dict[\"meetings\"][0][\"startTime\"], '%H:%M:%S').time()\n",
    "    fake_endtime = datetime.strptime(js_dict[\"meetings\"][0][\"endTime\"], '%H:%M:%S').time()\n",
    "    fake_start_dt = [datetime.combine(i, fake_starttime) for i in fake_date]\n",
    "    fake_end_dt = [datetime.combine(i, fake_endtime) for i in fake_date]\n",
    "    \n",
    "    sf_start_dt = \" / \".join([str(i.strftime(\"%a %H:%M\")) for i in fake_start_dt])\n",
    "    sf_end_dt = \" / \".join([str(i.strftime(\"%a %H:%M\")) for i in fake_end_dt])\n",
    "    \n",
    "    tw_start_dt = \" / \".join([str((i + timedelta(hours=15)).strftime(\"%a %H:%M\")) for i in fake_start_dt])\n",
    "    tw_end_dt = \" / \".join([str((i + timedelta(hours=15)).strftime(\"%a %H:%M\")) for i in fake_end_dt])\n",
    "    \n",
    "    description = js_dict[\"course\"][\"description\"]\n",
    "    final = js_dict[\"course\"][\"finalExam\"][\"description\"]\n",
    "    \n",
    "    information = pd.DataFrame({\n",
    "            \"Course_No.\" : course_num,\n",
    "            \"Serial_NO.\" : serial_num,\n",
    "            \"Course_Name\" : name,\n",
    "            \"Level\" : level,\n",
    "            \"Type\" : lecture,\n",
    "            \"Mode\" : mode,\n",
    "            \"Instructor(s)\" : instructors,\n",
    "            \"Units\" : units,\n",
    "            \"Start_Time(SF_time)\" : sf_start_dt,\n",
    "            \"End_Time(SF_time)\" : sf_end_dt,\n",
    "            \"Start_Time(TW_time)\" : tw_start_dt,\n",
    "            \"End_Time(TW_time)\" : tw_end_dt,\n",
    "            \"Final_Examination\" : final,\n",
    "            \"Description\" : description}, index=[0])\n",
    "    \n",
    "    return information\n",
    "\n",
    "def multiple_extract(url_list):\n",
    "    import pandas as pd\n",
    "    information =  pd.DataFrame({\n",
    "            \"Course_No.\" : None,\n",
    "            \"Serial_NO.\" : None,\n",
    "            \"Course_Name\" : None,\n",
    "            \"Level\" : None,\n",
    "            \"Type\" : None,\n",
    "            \"Mode\" : None,\n",
    "            \"Instructor(s)\" : None,\n",
    "            \"Units\" : None,\n",
    "            \"Start_Time(SF_time)\" : None,\n",
    "            \"End_Time(SF_time)\" : None,\n",
    "            \"Start_Time(TW_time)\" : None,\n",
    "            \"End_Time(TW_time)\" : None,\n",
    "            \"Final_Examination\" : None,\n",
    "            \"Description\" : None}, index=[0])\n",
    "    for i in url_list:\n",
    "        info = course_extract(i)\n",
    "        information = information.append(info, ignore_index=True)\n",
    "    return information.iloc[1:]\n"
   ]
  },
  {
   "cell_type": "code",
   "execution_count": 2,
   "metadata": {
    "hideCode": false,
    "hidePrompt": false,
    "scrolled": true
   },
   "outputs": [
    {
     "data": {
      "text/html": [
       "<style type=\"text/css\">\n",
       "table.dataframe td, table.dataframe th {\n",
       "    border: 1px  black solid !important;\n",
       "  color: black !important;\n",
       "}\n",
       "</style>"
      ],
      "text/plain": [
       "<IPython.core.display.HTML object>"
      ]
     },
     "metadata": {},
     "output_type": "display_data"
    }
   ],
   "source": [
    "%%HTML\n",
    "<style type=\"text/css\">\n",
    "table.dataframe td, table.dataframe th {\n",
    "    border: 1px  black solid !important;\n",
    "  color: black !important;\n",
    "}\n",
    "</style>"
   ]
  },
  {
   "cell_type": "markdown",
   "metadata": {},
   "source": [
    "## Demonstration"
   ]
  },
  {
   "cell_type": "code",
   "execution_count": 4,
   "metadata": {
    "scrolled": true
   },
   "outputs": [
    {
     "ename": "ModuleNotFoundError",
     "evalue": "No module named 'bs4'",
     "output_type": "error",
     "traceback": [
      "\u001b[1;31m---------------------------------------------------------------------------\u001b[0m",
      "\u001b[1;31mModuleNotFoundError\u001b[0m                       Traceback (most recent call last)",
      "\u001b[1;32m<ipython-input-4-c93cb055ac40>\u001b[0m in \u001b[0;36m<module>\u001b[1;34m()\u001b[0m\n\u001b[0;32m      1\u001b[0m \u001b[1;31m# Example for one Course:\u001b[0m\u001b[1;33m\u001b[0m\u001b[1;33m\u001b[0m\u001b[0m\n\u001b[1;32m----> 2\u001b[1;33m \u001b[0mresult\u001b[0m \u001b[1;33m=\u001b[0m \u001b[0mcourse_extract\u001b[0m\u001b[1;33m(\u001b[0m\u001b[1;34m\"https://classes.berkeley.edu/content/2020-fall-data-c102-001-lec-001\"\u001b[0m\u001b[1;33m)\u001b[0m \u001b[1;31m# put the link between \"\"\u001b[0m\u001b[1;33m\u001b[0m\u001b[0m\n\u001b[0m\u001b[0;32m      3\u001b[0m \u001b[0mresult\u001b[0m\u001b[1;33m\u001b[0m\u001b[0m\n",
      "\u001b[1;32m<ipython-input-1-19bf2175f41a>\u001b[0m in \u001b[0;36mcourse_extract\u001b[1;34m(url)\u001b[0m\n\u001b[0;32m     13\u001b[0m     \u001b[1;32mimport\u001b[0m \u001b[0mjson\u001b[0m\u001b[1;33m\u001b[0m\u001b[0m\n\u001b[0;32m     14\u001b[0m     \u001b[1;32mimport\u001b[0m \u001b[0mpandas\u001b[0m \u001b[1;32mas\u001b[0m \u001b[0mpd\u001b[0m\u001b[1;33m\u001b[0m\u001b[0m\n\u001b[1;32m---> 15\u001b[1;33m     \u001b[1;32mfrom\u001b[0m \u001b[0mbs4\u001b[0m \u001b[1;32mimport\u001b[0m \u001b[0mBeautifulSoup\u001b[0m\u001b[1;33m\u001b[0m\u001b[0m\n\u001b[0m\u001b[0;32m     16\u001b[0m \u001b[1;33m\u001b[0m\u001b[0m\n\u001b[0;32m     17\u001b[0m     \u001b[0mr\u001b[0m \u001b[1;33m=\u001b[0m \u001b[0mrequests\u001b[0m\u001b[1;33m.\u001b[0m\u001b[0mget\u001b[0m\u001b[1;33m(\u001b[0m\u001b[0murl\u001b[0m\u001b[1;33m)\u001b[0m\u001b[1;33m\u001b[0m\u001b[0m\n",
      "\u001b[1;31mModuleNotFoundError\u001b[0m: No module named 'bs4'"
     ]
    }
   ],
   "source": [
    "# Example for one Course: \n",
    "result = course_extract(\"https://classes.berkeley.edu/content/2020-fall-data-c102-001-lec-001\") # put the link between \"\"\n",
    "result"
   ]
  },
  {
   "cell_type": "code",
   "execution_count": null,
   "metadata": {
    "scrolled": true
   },
   "outputs": [],
   "source": [
    "# copy the result and paste it on your excel/Google Sheet/Database\n",
    "result.to_clipboard(excel=True,sep='\\t')"
   ]
  },
  {
   "cell_type": "code",
   "execution_count": null,
   "metadata": {
    "scrolled": true
   },
   "outputs": [],
   "source": [
    "# Example for multiple Courses:\n",
    "# 1. Put all your desired course link into the list, separate them by \",\"\n",
    "url_list = [\"https://classes.berkeley.edu/content/2020-fall-cyplan-257-001-lab-001\",\n",
    "            \"https://classes.berkeley.edu/content/2020-fall-cyplan-230-001-lec-001\",\n",
    "            \"https://classes.berkeley.edu/content/2020-fall-info-290-004-lec-004\",\n",
    "            \"https://classes.berkeley.edu/content/2020-fall-geog-170-001-lec-001\",\n",
    "            \"https://classes.berkeley.edu/content/2020-fall-sociol-167-001-lec-001\"]\n",
    "# 2. Extract them as table\n",
    "multiple_results = multiple_extract(url_list)\n",
    "multiple_results"
   ]
  },
  {
   "cell_type": "code",
   "execution_count": null,
   "metadata": {
    "scrolled": true
   },
   "outputs": [],
   "source": [
    "# 3. use this action to copy the result and paste it on your excel/Google Sheet/Database\n",
    "multiple_results.to_clipboard(excel=True,sep='\\t')"
   ]
  },
  {
   "cell_type": "markdown",
   "metadata": {},
   "source": [
    "## Search for the courses that interest you"
   ]
  },
  {
   "cell_type": "code",
   "execution_count": null,
   "metadata": {
    "hideOutput": true,
    "hidePrompt": true,
    "scrolled": true
   },
   "outputs": [],
   "source": [
    "# NOW, Try it on your own for one link!\n",
    "result = course_extract(\"https://classes.berkeley.edu/content/2020-fall-cyplan-230-001-lec-001\") # insert link\n",
    "result.to_clipboard(excel=True,sep='\\t') # copy the result, so you can paste it elsewhere\n",
    "#check the result\n",
    "result"
   ]
  },
  {
   "cell_type": "code",
   "execution_count": null,
   "metadata": {
    "hideOutput": true,
    "hidePrompt": true,
    "scrolled": true
   },
   "outputs": [],
   "source": [
    "# NOW, Try it on your own for multiple link!\n",
    "url_list = [\"https://classes.berkeley.edu/content/2021-spring-gms-200-001-lec-001\",\n",
    "            \"https://classes.berkeley.edu/content/2021-spring-info-288-001-lec-001\",\n",
    "            \"https://classes.berkeley.edu/content/2017-spring-info-296a-003-sem-003\",\n",
    "            \"https://classes.berkeley.edu/content/2021-spring-info-251-001-lec-001\",\n",
    "            \"https://classes.berkeley.edu/content/2021-spring-geog-170-001-lec-001\",\n",
    "            \"https://classes.berkeley.edu/content/2021-spring-sociol-190-005-sem-005\",\n",
    "            \"https://classes.berkeley.edu/content/2021-spring-sociol-190-005-sem-005\",\n",
    "            \"https://classes.berkeley.edu/content/2021-spring-engin-157ac-001-lec-001\",\n",
    "            \"https://classes.berkeley.edu/content/2021-spring-isf-189-003-sem-003\",\n",
    "            \"https://classes.berkeley.edu/content/2021-spring-anthro-162-001-lec-001\",\n",
    "            \"https://classes.berkeley.edu/content/2021-spring-cyplan-290-00c-sem-00c\",] # insert links, you can add as more links as you want\n",
    "multiple_results = multiple_extract(url_list)\n",
    "multiple_results.to_clipboard(excel=True,sep='\\t') # copy the result, so you can paste it elsewhere\n",
    "#check the result\n",
    "multiple_results"
   ]
  }
 ],
 "metadata": {
  "celltoolbar": "Hide code",
  "kernelspec": {
   "display_name": "Python 3",
   "language": "python",
   "name": "python3"
  },
  "language_info": {
   "codemirror_mode": {
    "name": "ipython",
    "version": 3
   },
   "file_extension": ".py",
   "mimetype": "text/x-python",
   "name": "python",
   "nbconvert_exporter": "python",
   "pygments_lexer": "ipython3",
   "version": "3.6.5"
  }
 },
 "nbformat": 4,
 "nbformat_minor": 2
}
