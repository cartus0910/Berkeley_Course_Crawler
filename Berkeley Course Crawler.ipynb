{
 "cells": [
  {
   "cell_type": "markdown",
   "metadata": {},
   "source": [
    "# Berkeley Course Crawler"
   ]
  },
  {
   "cell_type": "markdown",
   "metadata": {},
   "source": [
    "## Functions (You can skip this section, but remember to run the cell)\n",
    "How to run? Just move your cursor to the cell of code and click on \"Run\" button."
   ]
  },
  {
   "cell_type": "code",
   "execution_count": 1,
   "metadata": {},
   "outputs": [],
   "source": [
    "# -*- coding: utf-8 -*-\n",
    "\"\"\"\n",
    "Created on Sat Jul  4 23:32:27 2020\n",
    "\n",
    "@author: You, Bo-Xiang\n",
    "\"\"\"\n",
    "\n",
    "def course_extract(url):\n",
    "    \n",
    "    import requests\n",
    "    from datetime import datetime, timedelta\n",
    "    import json\n",
    "    import pandas as pd\n",
    "    from bs4 import BeautifulSoup\n",
    "    \n",
    "    r = requests.get(url)\n",
    "    soup = BeautifulSoup(r.text, \"html.parser\")\n",
    "    query = soup.find(\"div\", class_=\"handlebarData theme_is_whitehot\").attrs\n",
    "    js_str = query[\"data-json\"]\n",
    "    js_dict = json.loads(js_str)\n",
    "    course_num = js_dict[\"displayName\"]\n",
    "    serial_num = js_dict[\"id\"]\n",
    "    name = js_dict[\"course\"][\"title\"]\n",
    "    level = js_dict[\"course\"][\"academicCareer\"][\"description\"]\n",
    "    lecture = js_dict[\"component\"][\"description\"]\n",
    "    \n",
    "    try:\n",
    "        mode = js_dict[\"attributes\"][\"WEB\"][0][\"value\"][\"formalDescription\"]\n",
    "    except KeyError:\n",
    "        mode = \"Pending Reviews\"\n",
    "    \n",
    "    instructor = js_dict[\"meetings\"][0][\"assignedInstructors\"]\n",
    "    instructors = ', '.join([str(i[\"instructor\"][\"names\"][1][\"formattedName\"]) for i in instructor])\n",
    "    \n",
    "    try:\n",
    "        units = js_dict[\"course\"][\"credit\"][\"value\"][\"fixed\"][\"units\"]\n",
    "    except KeyError:\n",
    "        units = ' to '.join([str(js_dict[\"course\"][\"credit\"][\"value\"][\"range\"][\"minUnits\"]), str(js_dict[\"course\"][\"credit\"][\"value\"][\"range\"][\"maxUnits\"])])\n",
    "    \n",
    "    # date-time process\n",
    "    fake_date = []\n",
    "    if js_dict[\"meetings\"][0][\"meetsMonday\"]:\n",
    "        fake_date.append(datetime(2020,7,6).date())\n",
    "    if js_dict[\"meetings\"][0][\"meetsTuesday\"]:\n",
    "        fake_date.append(datetime(2020,7,7).date())\n",
    "    if js_dict[\"meetings\"][0][\"meetsWednesday\"]:\n",
    "        fake_date.append(datetime(2020,7,8).date())\n",
    "    if js_dict[\"meetings\"][0][\"meetsThursday\"]:\n",
    "        fake_date.append(datetime(2020,7,9).date())\n",
    "    if js_dict[\"meetings\"][0][\"meetsFriday\"]:\n",
    "        fake_date.append(datetime(2020,7,10).date())\n",
    "    fake_starttime = datetime.strptime(js_dict[\"meetings\"][0][\"startTime\"], '%H:%M:%S').time()\n",
    "    fake_endtime = datetime.strptime(js_dict[\"meetings\"][0][\"endTime\"], '%H:%M:%S').time()\n",
    "    fake_start_dt = [datetime.combine(i, fake_starttime) for i in fake_date]\n",
    "    fake_end_dt = [datetime.combine(i, fake_endtime) for i in fake_date]\n",
    "    \n",
    "    sf_start_dt = \" / \".join([str(i.strftime(\"%a %H:%M\")) for i in fake_start_dt])\n",
    "    sf_end_dt = \" / \".join([str(i.strftime(\"%a %H:%M\")) for i in fake_end_dt])\n",
    "    \n",
    "    tw_start_dt = \" / \".join([str((i + timedelta(hours=9)).strftime(\"%a %H:%M\")) for i in fake_start_dt])\n",
    "    tw_end_dt = \" / \".join([str((i + timedelta(hours=9)).strftime(\"%a %H:%M\")) for i in fake_end_dt])\n",
    "    \n",
    "    description = js_dict[\"course\"][\"description\"]\n",
    "    final = js_dict[\"course\"][\"finalExam\"][\"description\"]\n",
    "    \n",
    "    information = pd.DataFrame({\n",
    "            \"Course_No.\" : course_num,\n",
    "            \"Serial_NO.\" : serial_num,\n",
    "            \"Course_Name\" : name,\n",
    "            \"Level\" : level,\n",
    "            \"Type\" : lecture,\n",
    "            \"Mode\" : mode,\n",
    "            \"Instructor(s)\" : instructors,\n",
    "            \"Units\" : units,\n",
    "            \"Start_Time(SF_time)\" : sf_start_dt,\n",
    "            \"End_Time(SF_time)\" : sf_end_dt,\n",
    "            \"Start_Time(TW_time)\" : tw_start_dt,\n",
    "            \"End_Time(TW_time)\" : tw_end_dt,\n",
    "            \"Final_Examination\" : final,\n",
    "            \"Description\" : description}, index=[0])\n",
    "    \n",
    "    return information\n",
    "\n",
    "def multiple_extract(url_list):\n",
    "    import pandas as pd\n",
    "    information =  pd.DataFrame({\n",
    "            \"Course_No.\" : None,\n",
    "            \"Serial_NO.\" : None,\n",
    "            \"Course_Name\" : None,\n",
    "            \"Level\" : None,\n",
    "            \"Type\" : None,\n",
    "            \"Mode\" : None,\n",
    "            \"Instructor(s)\" : None,\n",
    "            \"Units\" : None,\n",
    "            \"Start_Time(SF_time)\" : None,\n",
    "            \"End_Time(SF_time)\" : None,\n",
    "            \"Start_Time(TW_time)\" : None,\n",
    "            \"End_Time(TW_time)\" : None,\n",
    "            \"Final_Examination\" : None,\n",
    "            \"Description\" : None}, index=[0])\n",
    "    for i in url_list:\n",
    "        info = course_extract(i)\n",
    "        information = information.append(info, ignore_index=True)\n",
    "    return information.iloc[1:]\n"
   ]
  },
  {
   "cell_type": "markdown",
   "metadata": {},
   "source": [
    "### Setting style"
   ]
  },
  {
   "cell_type": "code",
   "execution_count": 2,
   "metadata": {
    "scrolled": true
   },
   "outputs": [
    {
     "data": {
      "text/html": [
       "<style type=\"text/css\">\n",
       "table.dataframe td, table.dataframe th {\n",
       "    border: 1px  black solid !important;\n",
       "  color: black !important;\n",
       "}\n",
       "</style>\n"
      ],
      "text/plain": [
       "<IPython.core.display.HTML object>"
      ]
     },
     "metadata": {},
     "output_type": "display_data"
    }
   ],
   "source": [
    "%%HTML\n",
    "<style type=\"text/css\">\n",
    "table.dataframe td, table.dataframe th {\n",
    "    border: 1px  black solid !important;\n",
    "  color: black !important;\n",
    "}\n",
    "</style>"
   ]
  },
  {
   "cell_type": "markdown",
   "metadata": {},
   "source": [
    "## Demonstration"
   ]
  },
  {
   "cell_type": "code",
   "execution_count": 3,
   "metadata": {
    "scrolled": false
   },
   "outputs": [
    {
     "data": {
      "text/html": [
       "<div>\n",
       "<style scoped>\n",
       "    .dataframe tbody tr th:only-of-type {\n",
       "        vertical-align: middle;\n",
       "    }\n",
       "\n",
       "    .dataframe tbody tr th {\n",
       "        vertical-align: top;\n",
       "    }\n",
       "\n",
       "    .dataframe thead th {\n",
       "        text-align: right;\n",
       "    }\n",
       "</style>\n",
       "<table border=\"1\" class=\"dataframe\">\n",
       "  <thead>\n",
       "    <tr style=\"text-align: right;\">\n",
       "      <th></th>\n",
       "      <th>Course_No.</th>\n",
       "      <th>Serial_NO.</th>\n",
       "      <th>Course_Name</th>\n",
       "      <th>Level</th>\n",
       "      <th>Type</th>\n",
       "      <th>Mode</th>\n",
       "      <th>Instructor(s)</th>\n",
       "      <th>Units</th>\n",
       "      <th>Start_Time(SF_time)</th>\n",
       "      <th>End_Time(SF_time)</th>\n",
       "      <th>Start_Time(TW_time)</th>\n",
       "      <th>End_Time(TW_time)</th>\n",
       "      <th>Final_Examination</th>\n",
       "      <th>Description</th>\n",
       "    </tr>\n",
       "  </thead>\n",
       "  <tbody>\n",
       "    <tr>\n",
       "      <td>0</td>\n",
       "      <td>2020 Fall INDENG 290 004 LEC 004</td>\n",
       "      <td>32956</td>\n",
       "      <td>Special Topics in Industrial Engineering and O...</td>\n",
       "      <td>Graduate</td>\n",
       "      <td>Lecture</td>\n",
       "      <td>Asynchronous Instruction</td>\n",
       "      <td>Barna  Saha</td>\n",
       "      <td>2 to 3</td>\n",
       "      <td>Tue 14:00 / Thu 14:00</td>\n",
       "      <td>Tue 15:29 / Thu 15:29</td>\n",
       "      <td>Tue 23:00 / Thu 23:00</td>\n",
       "      <td>Wed 00:29 / Fri 00:29</td>\n",
       "      <td>Written final exam conducted during the schedu...</td>\n",
       "      <td>Lectures and appropriate assignments on fundam...</td>\n",
       "    </tr>\n",
       "  </tbody>\n",
       "</table>\n",
       "</div>"
      ],
      "text/plain": [
       "                         Course_No.  Serial_NO.  \\\n",
       "0  2020 Fall INDENG 290 004 LEC 004       32956   \n",
       "\n",
       "                                         Course_Name     Level     Type  \\\n",
       "0  Special Topics in Industrial Engineering and O...  Graduate  Lecture   \n",
       "\n",
       "                       Mode Instructor(s)   Units    Start_Time(SF_time)  \\\n",
       "0  Asynchronous Instruction   Barna  Saha  2 to 3  Tue 14:00 / Thu 14:00   \n",
       "\n",
       "       End_Time(SF_time)    Start_Time(TW_time)      End_Time(TW_time)  \\\n",
       "0  Tue 15:29 / Thu 15:29  Tue 23:00 / Thu 23:00  Wed 00:29 / Fri 00:29   \n",
       "\n",
       "                                   Final_Examination  \\\n",
       "0  Written final exam conducted during the schedu...   \n",
       "\n",
       "                                         Description  \n",
       "0  Lectures and appropriate assignments on fundam...  "
      ]
     },
     "execution_count": 3,
     "metadata": {},
     "output_type": "execute_result"
    }
   ],
   "source": [
    "# Example for one Course: \n",
    "result = course_extract(\"https://classes.berkeley.edu/content/2020-fall-indeng-290-004-lec-004\") # put the link between \"\"\n",
    "result"
   ]
  },
  {
   "cell_type": "code",
   "execution_count": 4,
   "metadata": {
    "scrolled": true
   },
   "outputs": [],
   "source": [
    "# copy the result and paste it on your excel/Google Sheet/Database\n",
    "result.to_clipboard(excel=True,sep='\\t')"
   ]
  },
  {
   "cell_type": "code",
   "execution_count": 5,
   "metadata": {
    "scrolled": true
   },
   "outputs": [
    {
     "data": {
      "text/html": [
       "<div>\n",
       "<style scoped>\n",
       "    .dataframe tbody tr th:only-of-type {\n",
       "        vertical-align: middle;\n",
       "    }\n",
       "\n",
       "    .dataframe tbody tr th {\n",
       "        vertical-align: top;\n",
       "    }\n",
       "\n",
       "    .dataframe thead th {\n",
       "        text-align: right;\n",
       "    }\n",
       "</style>\n",
       "<table border=\"1\" class=\"dataframe\">\n",
       "  <thead>\n",
       "    <tr style=\"text-align: right;\">\n",
       "      <th></th>\n",
       "      <th>Course_No.</th>\n",
       "      <th>Serial_NO.</th>\n",
       "      <th>Course_Name</th>\n",
       "      <th>Level</th>\n",
       "      <th>Type</th>\n",
       "      <th>Mode</th>\n",
       "      <th>Instructor(s)</th>\n",
       "      <th>Units</th>\n",
       "      <th>Start_Time(SF_time)</th>\n",
       "      <th>End_Time(SF_time)</th>\n",
       "      <th>Start_Time(TW_time)</th>\n",
       "      <th>End_Time(TW_time)</th>\n",
       "      <th>Final_Examination</th>\n",
       "      <th>Description</th>\n",
       "    </tr>\n",
       "  </thead>\n",
       "  <tbody>\n",
       "    <tr>\n",
       "      <td>1</td>\n",
       "      <td>2020 Fall INDENG 290 004 LEC 004</td>\n",
       "      <td>32956</td>\n",
       "      <td>Special Topics in Industrial Engineering and O...</td>\n",
       "      <td>Graduate</td>\n",
       "      <td>Lecture</td>\n",
       "      <td>Asynchronous Instruction</td>\n",
       "      <td>Barna  Saha</td>\n",
       "      <td>2 to 3</td>\n",
       "      <td>Tue 14:00 / Thu 14:00</td>\n",
       "      <td>Tue 15:29 / Thu 15:29</td>\n",
       "      <td>Tue 23:00 / Thu 23:00</td>\n",
       "      <td>Wed 00:29 / Fri 00:29</td>\n",
       "      <td>Written final exam conducted during the schedu...</td>\n",
       "      <td>Lectures and appropriate assignments on fundam...</td>\n",
       "    </tr>\n",
       "    <tr>\n",
       "      <td>2</td>\n",
       "      <td>2020 Fall CIVENG 199 001 IND 001</td>\n",
       "      <td>16638</td>\n",
       "      <td>Supervised Independent Study</td>\n",
       "      <td>Undergraduate</td>\n",
       "      <td>Independent Study</td>\n",
       "      <td>Pending Reviews</td>\n",
       "      <td>Norman A Abrahamson</td>\n",
       "      <td>1 to 4</td>\n",
       "      <td></td>\n",
       "      <td></td>\n",
       "      <td></td>\n",
       "      <td></td>\n",
       "      <td>No final exam</td>\n",
       "      <td>Supervised independent study.</td>\n",
       "    </tr>\n",
       "    <tr>\n",
       "      <td>3</td>\n",
       "      <td>2020 Fall INDENG 290 004 LEC 004</td>\n",
       "      <td>32956</td>\n",
       "      <td>Special Topics in Industrial Engineering and O...</td>\n",
       "      <td>Graduate</td>\n",
       "      <td>Lecture</td>\n",
       "      <td>Asynchronous Instruction</td>\n",
       "      <td>Barna  Saha</td>\n",
       "      <td>2 to 3</td>\n",
       "      <td>Tue 14:00 / Thu 14:00</td>\n",
       "      <td>Tue 15:29 / Thu 15:29</td>\n",
       "      <td>Tue 23:00 / Thu 23:00</td>\n",
       "      <td>Wed 00:29 / Fri 00:29</td>\n",
       "      <td>Written final exam conducted during the schedu...</td>\n",
       "      <td>Lectures and appropriate assignments on fundam...</td>\n",
       "    </tr>\n",
       "  </tbody>\n",
       "</table>\n",
       "</div>"
      ],
      "text/plain": [
       "                         Course_No. Serial_NO.  \\\n",
       "1  2020 Fall INDENG 290 004 LEC 004      32956   \n",
       "2  2020 Fall CIVENG 199 001 IND 001      16638   \n",
       "3  2020 Fall INDENG 290 004 LEC 004      32956   \n",
       "\n",
       "                                         Course_Name          Level  \\\n",
       "1  Special Topics in Industrial Engineering and O...       Graduate   \n",
       "2                       Supervised Independent Study  Undergraduate   \n",
       "3  Special Topics in Industrial Engineering and O...       Graduate   \n",
       "\n",
       "                Type                      Mode        Instructor(s)   Units  \\\n",
       "1            Lecture  Asynchronous Instruction          Barna  Saha  2 to 3   \n",
       "2  Independent Study           Pending Reviews  Norman A Abrahamson  1 to 4   \n",
       "3            Lecture  Asynchronous Instruction          Barna  Saha  2 to 3   \n",
       "\n",
       "     Start_Time(SF_time)      End_Time(SF_time)    Start_Time(TW_time)  \\\n",
       "1  Tue 14:00 / Thu 14:00  Tue 15:29 / Thu 15:29  Tue 23:00 / Thu 23:00   \n",
       "2                                                                        \n",
       "3  Tue 14:00 / Thu 14:00  Tue 15:29 / Thu 15:29  Tue 23:00 / Thu 23:00   \n",
       "\n",
       "       End_Time(TW_time)                                  Final_Examination  \\\n",
       "1  Wed 00:29 / Fri 00:29  Written final exam conducted during the schedu...   \n",
       "2                                                             No final exam   \n",
       "3  Wed 00:29 / Fri 00:29  Written final exam conducted during the schedu...   \n",
       "\n",
       "                                         Description  \n",
       "1  Lectures and appropriate assignments on fundam...  \n",
       "2                     Supervised independent study.   \n",
       "3  Lectures and appropriate assignments on fundam...  "
      ]
     },
     "execution_count": 5,
     "metadata": {},
     "output_type": "execute_result"
    }
   ],
   "source": [
    "# Example for multiple Courses:\n",
    "# 1. Put all your desired course link into the list, separate them by \",\"\n",
    "url_list = [\"https://classes.berkeley.edu/content/2020-fall-indeng-290-004-lec-004\", \"https://classes.berkeley.edu/content/2020-fall-civeng-199-001-ind-001\", \"https://classes.berkeley.edu/content/2020-fall-indeng-290-004-lec-004\"]\n",
    "# 2. Extract them as table\n",
    "multiple_results = multiple_extract(url_list)\n",
    "multiple_results"
   ]
  },
  {
   "cell_type": "code",
   "execution_count": 6,
   "metadata": {
    "scrolled": true
   },
   "outputs": [],
   "source": [
    "# 3. use this action to copy the result and paste it on your excel/Google Sheet/Database\n",
    "multiple_results.to_clipboard(excel=True,sep='\\t')"
   ]
  },
  {
   "cell_type": "markdown",
   "metadata": {},
   "source": [
    "## Search for the courses that interest you"
   ]
  },
  {
   "cell_type": "code",
   "execution_count": null,
   "metadata": {
    "scrolled": true
   },
   "outputs": [],
   "source": [
    "# NOW, Try it on your own for one link!\n",
    "result = course_extract(\"\") # insert link\n",
    "result.to_clipboard(excel=True,sep='\\t') # copy the result, so you can paste it elsewhere\n",
    "#check the result\n",
    "result"
   ]
  },
  {
   "cell_type": "code",
   "execution_count": null,
   "metadata": {
    "scrolled": true
   },
   "outputs": [],
   "source": [
    "# NOW, Try it on your own for multiple link!\n",
    "url_list = [\"\", \"\", \"\"] # insert links, you can add as more links as you want\n",
    "multiple_results = multiple_extract(url_list)\n",
    "multiple_results.to_clipboard(excel=True,sep='\\t') # copy the result, so you can paste it elsewhere\n",
    "#check the result\n",
    "multiple_results"
   ]
  }
 ],
 "metadata": {
  "kernelspec": {
   "display_name": "Python 3",
   "language": "python",
   "name": "python3"
  },
  "language_info": {
   "codemirror_mode": {
    "name": "ipython",
    "version": 3
   },
   "file_extension": ".py",
   "mimetype": "text/x-python",
   "name": "python",
   "nbconvert_exporter": "python",
   "pygments_lexer": "ipython3",
   "version": "3.7.4"
  }
 },
 "nbformat": 4,
 "nbformat_minor": 2
}
