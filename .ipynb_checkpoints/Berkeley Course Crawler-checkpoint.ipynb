{
 "cells": [
  {
   "cell_type": "markdown",
   "metadata": {},
   "source": [
    "# Berkeley Course Crawler"
   ]
  },
  {
   "cell_type": "markdown",
   "metadata": {},
   "source": [
    "This crawler helps you extract more detailed information from Berkeley Course webpage. Follow the steps below, and have your excel/google sheet/database prepared. You can organize your short list of courses."
   ]
  },
  {
   "cell_type": "markdown",
   "metadata": {
    "hidePrompt": true
   },
   "source": [
    "## Functions (You can skip this section, but remember to run the cell)\n",
    "How to run? Just move your cursor to the cell of code and click on \"Run\" button."
   ]
  },
  {
   "cell_type": "code",
   "execution_count": 16,
   "metadata": {
    "collapsed": true,
    "hidePrompt": true
   },
   "outputs": [],
   "source": [
    "# -*- coding: utf-8 -*-\n",
    "\"\"\"\n",
    "Created on Sat Jul  4 23:32:27 2020\n",
    "\n",
    "@author: You, Bo-Xiang\n",
    "\"\"\"\n",
    "\n",
    "\n",
    "def course_extract(url):\n",
    "    \n",
    "    import requests\n",
    "    from datetime import datetime, timedelta\n",
    "    import json\n",
    "    import pandas as pd\n",
    "    from bs4 import BeautifulSoup\n",
    "    \n",
    "    r = requests.get(url)\n",
    "    soup = BeautifulSoup(r.text, \"html.parser\")\n",
    "    query = soup.find(\"div\", class_=\"handlebarData theme_is_whitehot\").attrs\n",
    "    js_str = query[\"data-json\"]\n",
    "    js_dict = json.loads(js_str)\n",
    "    course_num = js_dict[\"displayName\"]\n",
    "    serial_num = js_dict[\"id\"]\n",
    "    name = js_dict[\"course\"][\"title\"]\n",
    "    level = js_dict[\"course\"][\"academicCareer\"][\"description\"]\n",
    "    lecture = js_dict[\"component\"][\"description\"]\n",
    "    \n",
    "    try:\n",
    "        mode = js_dict[\"attributes\"][\"WEB\"][0][\"value\"][\"formalDescription\"]\n",
    "    except KeyError:\n",
    "        mode = \"Pending Reviews\"\n",
    "    \n",
    "    instructor = js_dict[\"meetings\"][0][\"assignedInstructors\"]\n",
    "    instructors = ', '.join([str(i[\"instructor\"][\"names\"][1][\"formattedName\"]) for i in instructor])\n",
    "    \n",
    "    try:\n",
    "        units = js_dict[\"course\"][\"credit\"][\"value\"][\"fixed\"][\"units\"]\n",
    "    except KeyError:\n",
    "        units = ' to '.join([str(js_dict[\"course\"][\"credit\"][\"value\"][\"range\"][\"minUnits\"]), str(js_dict[\"course\"][\"credit\"][\"value\"][\"range\"][\"maxUnits\"])])\n",
    "    \n",
    "    # date-time process\n",
    "    fake_date = []\n",
    "    if js_dict[\"meetings\"][0][\"meetsMonday\"]:\n",
    "        fake_date.append(datetime(2020,7,6).date())\n",
    "    if js_dict[\"meetings\"][0][\"meetsTuesday\"]:\n",
    "        fake_date.append(datetime(2020,7,7).date())\n",
    "    if js_dict[\"meetings\"][0][\"meetsWednesday\"]:\n",
    "        fake_date.append(datetime(2020,7,8).date())\n",
    "    if js_dict[\"meetings\"][0][\"meetsThursday\"]:\n",
    "        fake_date.append(datetime(2020,7,9).date())\n",
    "    if js_dict[\"meetings\"][0][\"meetsFriday\"]:\n",
    "        fake_date.append(datetime(2020,7,10).date())\n",
    "    fake_starttime = datetime.strptime(js_dict[\"meetings\"][0][\"startTime\"], '%H:%M:%S').time()\n",
    "    fake_endtime = datetime.strptime(js_dict[\"meetings\"][0][\"endTime\"], '%H:%M:%S').time()\n",
    "    fake_start_dt = [datetime.combine(i, fake_starttime) for i in fake_date]\n",
    "    fake_end_dt = [datetime.combine(i, fake_endtime) for i in fake_date]\n",
    "    \n",
    "    sf_start_dt = \" / \".join([str(i.strftime(\"%a %H:%M\")) for i in fake_start_dt])\n",
    "    sf_end_dt = \" / \".join([str(i.strftime(\"%a %H:%M\")) for i in fake_end_dt])\n",
    "    \n",
    "    tw_start_dt = \" / \".join([str((i + timedelta(hours=9)).strftime(\"%a %H:%M\")) for i in fake_start_dt])\n",
    "    tw_end_dt = \" / \".join([str((i + timedelta(hours=9)).strftime(\"%a %H:%M\")) for i in fake_end_dt])\n",
    "    \n",
    "    description = js_dict[\"course\"][\"description\"]\n",
    "    final = js_dict[\"course\"][\"finalExam\"][\"description\"]\n",
    "    \n",
    "    information = pd.DataFrame({\n",
    "            \"Course_No.\" : course_num,\n",
    "            \"Serial_NO.\" : serial_num,\n",
    "            \"Course_Name\" : name,\n",
    "            \"Level\" : level,\n",
    "            \"Type\" : lecture,\n",
    "            \"Mode\" : mode,\n",
    "            \"Instructor(s)\" : instructors,\n",
    "            \"Units\" : units,\n",
    "            \"Start_Time(SF_time)\" : sf_start_dt,\n",
    "            \"End_Time(SF_time)\" : sf_end_dt,\n",
    "            \"Start_Time(TW_time)\" : tw_start_dt,\n",
    "            \"End_Time(TW_time)\" : tw_end_dt,\n",
    "            \"Final_Examination\" : final,\n",
    "            \"Description\" : description}, index=[0])\n",
    "    \n",
    "    return information\n",
    "\n",
    "def multiple_extract(url_list):\n",
    "    import pandas as pd\n",
    "    information =  pd.DataFrame({\n",
    "            \"Course_No.\" : None,\n",
    "            \"Serial_NO.\" : None,\n",
    "            \"Course_Name\" : None,\n",
    "            \"Level\" : None,\n",
    "            \"Type\" : None,\n",
    "            \"Mode\" : None,\n",
    "            \"Instructor(s)\" : None,\n",
    "            \"Units\" : None,\n",
    "            \"Start_Time(SF_time)\" : None,\n",
    "            \"End_Time(SF_time)\" : None,\n",
    "            \"Start_Time(TW_time)\" : None,\n",
    "            \"End_Time(TW_time)\" : None,\n",
    "            \"Final_Examination\" : None,\n",
    "            \"Description\" : None}, index=[0])\n",
    "    for i in url_list:\n",
    "        info = course_extract(i)\n",
    "        information = information.append(info, ignore_index=True)\n",
    "    return information.iloc[1:]\n"
   ]
  },
  {
   "cell_type": "markdown",
   "metadata": {},
   "source": [
    "### Setting style"
   ]
  },
  {
   "cell_type": "code",
   "execution_count": 9,
   "metadata": {
    "collapsed": true
   },
   "outputs": [
    {
     "data": {
      "text/html": [
       "<style type=\"text/css\">\n",
       "table.dataframe td, table.dataframe th {\n",
       "    border: 1px  black solid !important;\n",
       "  color: black !important;\n",
       "}\n",
       "</style>\n"
      ],
      "text/plain": [
       "<IPython.core.display.HTML object>"
      ]
     },
     "metadata": {},
     "output_type": "display_data"
    }
   ],
   "source": [
    "%%HTML\n",
    "<style type=\"text/css\">\n",
    "table.dataframe td, table.dataframe th {\n",
    "    border: 1px  black solid !important;\n",
    "  color: black !important;\n",
    "}\n",
    "</style>"
   ]
  },
  {
   "cell_type": "markdown",
   "metadata": {},
   "source": [
    "## Demonstration"
   ]
  },
  {
   "cell_type": "code",
   "execution_count": 10,
   "metadata": {
    "collapsed": true
   },
   "outputs": [
    {
     "data": {
      "text/html": [
       "<div>\n",
       "<style scoped>\n",
       "    .dataframe tbody tr th:only-of-type {\n",
       "        vertical-align: middle;\n",
       "    }\n",
       "\n",
       "    .dataframe tbody tr th {\n",
       "        vertical-align: top;\n",
       "    }\n",
       "\n",
       "    .dataframe thead th {\n",
       "        text-align: right;\n",
       "    }\n",
       "</style>\n",
       "<table border=\"1\" class=\"dataframe\">\n",
       "  <thead>\n",
       "    <tr style=\"text-align: right;\">\n",
       "      <th></th>\n",
       "      <th>Course_No.</th>\n",
       "      <th>Serial_NO.</th>\n",
       "      <th>Course_Name</th>\n",
       "      <th>Level</th>\n",
       "      <th>Type</th>\n",
       "      <th>Mode</th>\n",
       "      <th>Instructor(s)</th>\n",
       "      <th>Units</th>\n",
       "      <th>Start_Time(SF_time)</th>\n",
       "      <th>End_Time(SF_time)</th>\n",
       "      <th>Start_Time(TW_time)</th>\n",
       "      <th>End_Time(TW_time)</th>\n",
       "      <th>Final_Examination</th>\n",
       "      <th>Description</th>\n",
       "    </tr>\n",
       "  </thead>\n",
       "  <tbody>\n",
       "    <tr>\n",
       "      <td>0</td>\n",
       "      <td>2020 Fall DATA C102 001 LEC 001</td>\n",
       "      <td>33319</td>\n",
       "      <td>Data, Inference, and Decisions</td>\n",
       "      <td>Undergraduate</td>\n",
       "      <td>Lecture</td>\n",
       "      <td>Pending Reviews</td>\n",
       "      <td>Michael  Jordan, Jacob Noah  Steinhardt</td>\n",
       "      <td>4</td>\n",
       "      <td>Tue 14:00 / Thu 14:00</td>\n",
       "      <td>Tue 15:29 / Thu 15:29</td>\n",
       "      <td>Tue 23:00 / Thu 23:00</td>\n",
       "      <td>Wed 00:29 / Fri 00:29</td>\n",
       "      <td>Written final exam conducted during the schedu...</td>\n",
       "      <td>This course develops the probabilistic foundat...</td>\n",
       "    </tr>\n",
       "  </tbody>\n",
       "</table>\n",
       "</div>"
      ],
      "text/plain": [
       "                        Course_No.  Serial_NO.  \\\n",
       "0  2020 Fall DATA C102 001 LEC 001       33319   \n",
       "\n",
       "                      Course_Name          Level     Type             Mode  \\\n",
       "0  Data, Inference, and Decisions  Undergraduate  Lecture  Pending Reviews   \n",
       "\n",
       "                             Instructor(s)  Units    Start_Time(SF_time)  \\\n",
       "0  Michael  Jordan, Jacob Noah  Steinhardt      4  Tue 14:00 / Thu 14:00   \n",
       "\n",
       "       End_Time(SF_time)    Start_Time(TW_time)      End_Time(TW_time)  \\\n",
       "0  Tue 15:29 / Thu 15:29  Tue 23:00 / Thu 23:00  Wed 00:29 / Fri 00:29   \n",
       "\n",
       "                                   Final_Examination  \\\n",
       "0  Written final exam conducted during the schedu...   \n",
       "\n",
       "                                         Description  \n",
       "0  This course develops the probabilistic foundat...  "
      ]
     },
     "execution_count": 10,
     "metadata": {},
     "output_type": "execute_result"
    }
   ],
   "source": [
    "# Example for one Course: \n",
    "result = course_extract(\"https://classes.berkeley.edu/content/2020-fall-data-c102-001-lec-001\") # put the link between \"\"\n",
    "result"
   ]
  },
  {
   "cell_type": "code",
   "execution_count": 11,
   "metadata": {
    "collapsed": true
   },
   "outputs": [],
   "source": [
    "# copy the result and paste it on your excel/Google Sheet/Database\n",
    "result.to_clipboard(excel=True,sep='\\t')"
   ]
  },
  {
   "cell_type": "code",
   "execution_count": 12,
   "metadata": {
    "collapsed": true
   },
   "outputs": [
    {
     "data": {
      "text/html": [
       "<div>\n",
       "<style scoped>\n",
       "    .dataframe tbody tr th:only-of-type {\n",
       "        vertical-align: middle;\n",
       "    }\n",
       "\n",
       "    .dataframe tbody tr th {\n",
       "        vertical-align: top;\n",
       "    }\n",
       "\n",
       "    .dataframe thead th {\n",
       "        text-align: right;\n",
       "    }\n",
       "</style>\n",
       "<table border=\"1\" class=\"dataframe\">\n",
       "  <thead>\n",
       "    <tr style=\"text-align: right;\">\n",
       "      <th></th>\n",
       "      <th>Course_No.</th>\n",
       "      <th>Serial_NO.</th>\n",
       "      <th>Course_Name</th>\n",
       "      <th>Level</th>\n",
       "      <th>Type</th>\n",
       "      <th>Mode</th>\n",
       "      <th>Instructor(s)</th>\n",
       "      <th>Units</th>\n",
       "      <th>Start_Time(SF_time)</th>\n",
       "      <th>End_Time(SF_time)</th>\n",
       "      <th>Start_Time(TW_time)</th>\n",
       "      <th>End_Time(TW_time)</th>\n",
       "      <th>Final_Examination</th>\n",
       "      <th>Description</th>\n",
       "    </tr>\n",
       "  </thead>\n",
       "  <tbody>\n",
       "    <tr>\n",
       "      <td>1</td>\n",
       "      <td>2020 Fall DATA C102 001 LEC 001</td>\n",
       "      <td>33319</td>\n",
       "      <td>Data, Inference, and Decisions</td>\n",
       "      <td>Undergraduate</td>\n",
       "      <td>Lecture</td>\n",
       "      <td>Pending Reviews</td>\n",
       "      <td>Michael  Jordan, Jacob Noah  Steinhardt</td>\n",
       "      <td>4</td>\n",
       "      <td>Tue 14:00 / Thu 14:00</td>\n",
       "      <td>Tue 15:29 / Thu 15:29</td>\n",
       "      <td>Tue 23:00 / Thu 23:00</td>\n",
       "      <td>Wed 00:29 / Fri 00:29</td>\n",
       "      <td>Written final exam conducted during the schedu...</td>\n",
       "      <td>This course develops the probabilistic foundat...</td>\n",
       "    </tr>\n",
       "    <tr>\n",
       "      <td>2</td>\n",
       "      <td>2020 Fall CIVENG 199 001 IND 001</td>\n",
       "      <td>16638</td>\n",
       "      <td>Supervised Independent Study</td>\n",
       "      <td>Undergraduate</td>\n",
       "      <td>Independent Study</td>\n",
       "      <td>Pending Reviews</td>\n",
       "      <td>Norman A Abrahamson</td>\n",
       "      <td>1 to 4</td>\n",
       "      <td></td>\n",
       "      <td></td>\n",
       "      <td></td>\n",
       "      <td></td>\n",
       "      <td>No final exam</td>\n",
       "      <td>Supervised independent study.</td>\n",
       "    </tr>\n",
       "    <tr>\n",
       "      <td>3</td>\n",
       "      <td>2020 Fall INDENG 290 004 LEC 004</td>\n",
       "      <td>32956</td>\n",
       "      <td>Special Topics in Industrial Engineering and O...</td>\n",
       "      <td>Graduate</td>\n",
       "      <td>Lecture</td>\n",
       "      <td>Asynchronous Instruction</td>\n",
       "      <td>Barna  Saha</td>\n",
       "      <td>2 to 3</td>\n",
       "      <td>Tue 14:00 / Thu 14:00</td>\n",
       "      <td>Tue 15:29 / Thu 15:29</td>\n",
       "      <td>Tue 23:00 / Thu 23:00</td>\n",
       "      <td>Wed 00:29 / Fri 00:29</td>\n",
       "      <td>Written final exam conducted during the schedu...</td>\n",
       "      <td>Lectures and appropriate assignments on fundam...</td>\n",
       "    </tr>\n",
       "  </tbody>\n",
       "</table>\n",
       "</div>"
      ],
      "text/plain": [
       "                         Course_No. Serial_NO.  \\\n",
       "1   2020 Fall DATA C102 001 LEC 001      33319   \n",
       "2  2020 Fall CIVENG 199 001 IND 001      16638   \n",
       "3  2020 Fall INDENG 290 004 LEC 004      32956   \n",
       "\n",
       "                                         Course_Name          Level  \\\n",
       "1                     Data, Inference, and Decisions  Undergraduate   \n",
       "2                       Supervised Independent Study  Undergraduate   \n",
       "3  Special Topics in Industrial Engineering and O...       Graduate   \n",
       "\n",
       "                Type                      Mode  \\\n",
       "1            Lecture           Pending Reviews   \n",
       "2  Independent Study           Pending Reviews   \n",
       "3            Lecture  Asynchronous Instruction   \n",
       "\n",
       "                             Instructor(s)   Units    Start_Time(SF_time)  \\\n",
       "1  Michael  Jordan, Jacob Noah  Steinhardt       4  Tue 14:00 / Thu 14:00   \n",
       "2                      Norman A Abrahamson  1 to 4                          \n",
       "3                              Barna  Saha  2 to 3  Tue 14:00 / Thu 14:00   \n",
       "\n",
       "       End_Time(SF_time)    Start_Time(TW_time)      End_Time(TW_time)  \\\n",
       "1  Tue 15:29 / Thu 15:29  Tue 23:00 / Thu 23:00  Wed 00:29 / Fri 00:29   \n",
       "2                                                                        \n",
       "3  Tue 15:29 / Thu 15:29  Tue 23:00 / Thu 23:00  Wed 00:29 / Fri 00:29   \n",
       "\n",
       "                                   Final_Examination  \\\n",
       "1  Written final exam conducted during the schedu...   \n",
       "2                                      No final exam   \n",
       "3  Written final exam conducted during the schedu...   \n",
       "\n",
       "                                         Description  \n",
       "1  This course develops the probabilistic foundat...  \n",
       "2                     Supervised independent study.   \n",
       "3  Lectures and appropriate assignments on fundam...  "
      ]
     },
     "execution_count": 12,
     "metadata": {},
     "output_type": "execute_result"
    }
   ],
   "source": [
    "# Example for multiple Courses:\n",
    "# 1. Put all your desired course link into the list, separate them by \",\"\n",
    "url_list = [\"https://classes.berkeley.edu/content/2020-fall-data-c102-001-lec-001\", \"https://classes.berkeley.edu/content/2020-fall-civeng-199-001-ind-001\", \"https://classes.berkeley.edu/content/2020-fall-indeng-290-004-lec-004\"]\n",
    "# 2. Extract them as table\n",
    "multiple_results = multiple_extract(url_list)\n",
    "multiple_results"
   ]
  },
  {
   "cell_type": "code",
   "execution_count": 13,
   "metadata": {
    "collapsed": true
   },
   "outputs": [],
   "source": [
    "# 3. use this action to copy the result and paste it on your excel/Google Sheet/Database\n",
    "multiple_results.to_clipboard(excel=True,sep='\\t')"
   ]
  },
  {
   "cell_type": "markdown",
   "metadata": {},
   "source": [
    "## Search for the courses that interest you"
   ]
  },
  {
   "cell_type": "code",
   "execution_count": 14,
   "metadata": {
    "collapsed": true
   },
   "outputs": [
    {
     "ename": "MissingSchema",
     "evalue": "Invalid URL '': No schema supplied. Perhaps you meant http://?",
     "output_type": "error",
     "traceback": [
      "\u001b[1;31m---------------------------------------------------------------------------\u001b[0m",
      "\u001b[1;31mMissingSchema\u001b[0m                             Traceback (most recent call last)",
      "\u001b[1;32m<ipython-input-14-6bef94052d62>\u001b[0m in \u001b[0;36m<module>\u001b[1;34m\u001b[0m\n\u001b[0;32m      1\u001b[0m \u001b[1;31m# NOW, Try it on your own for one link!\u001b[0m\u001b[1;33m\u001b[0m\u001b[1;33m\u001b[0m\u001b[1;33m\u001b[0m\u001b[0m\n\u001b[1;32m----> 2\u001b[1;33m \u001b[0mresult\u001b[0m \u001b[1;33m=\u001b[0m \u001b[0mcourse_extract\u001b[0m\u001b[1;33m(\u001b[0m\u001b[1;34m\"\"\u001b[0m\u001b[1;33m)\u001b[0m \u001b[1;31m# insert link\u001b[0m\u001b[1;33m\u001b[0m\u001b[1;33m\u001b[0m\u001b[0m\n\u001b[0m\u001b[0;32m      3\u001b[0m \u001b[0mresult\u001b[0m\u001b[1;33m.\u001b[0m\u001b[0mto_clipboard\u001b[0m\u001b[1;33m(\u001b[0m\u001b[0mexcel\u001b[0m\u001b[1;33m=\u001b[0m\u001b[1;32mTrue\u001b[0m\u001b[1;33m,\u001b[0m\u001b[0msep\u001b[0m\u001b[1;33m=\u001b[0m\u001b[1;34m'\\t'\u001b[0m\u001b[1;33m)\u001b[0m \u001b[1;31m# copy the result, so you can paste it elsewhere\u001b[0m\u001b[1;33m\u001b[0m\u001b[1;33m\u001b[0m\u001b[0m\n\u001b[0;32m      4\u001b[0m \u001b[1;31m#check the result\u001b[0m\u001b[1;33m\u001b[0m\u001b[1;33m\u001b[0m\u001b[1;33m\u001b[0m\u001b[0m\n\u001b[0;32m      5\u001b[0m \u001b[0mresult\u001b[0m\u001b[1;33m\u001b[0m\u001b[1;33m\u001b[0m\u001b[0m\n",
      "\u001b[1;32m<ipython-input-8-ec2f6951794a>\u001b[0m in \u001b[0;36mcourse_extract\u001b[1;34m(url)\u001b[0m\n\u001b[0;32m     14\u001b[0m     \u001b[1;32mfrom\u001b[0m \u001b[0mbs4\u001b[0m \u001b[1;32mimport\u001b[0m \u001b[0mBeautifulSoup\u001b[0m\u001b[1;33m\u001b[0m\u001b[1;33m\u001b[0m\u001b[0m\n\u001b[0;32m     15\u001b[0m \u001b[1;33m\u001b[0m\u001b[0m\n\u001b[1;32m---> 16\u001b[1;33m     \u001b[0mr\u001b[0m \u001b[1;33m=\u001b[0m \u001b[0mrequests\u001b[0m\u001b[1;33m.\u001b[0m\u001b[0mget\u001b[0m\u001b[1;33m(\u001b[0m\u001b[0murl\u001b[0m\u001b[1;33m)\u001b[0m\u001b[1;33m\u001b[0m\u001b[1;33m\u001b[0m\u001b[0m\n\u001b[0m\u001b[0;32m     17\u001b[0m     \u001b[0msoup\u001b[0m \u001b[1;33m=\u001b[0m \u001b[0mBeautifulSoup\u001b[0m\u001b[1;33m(\u001b[0m\u001b[0mr\u001b[0m\u001b[1;33m.\u001b[0m\u001b[0mtext\u001b[0m\u001b[1;33m,\u001b[0m \u001b[1;34m\"html.parser\"\u001b[0m\u001b[1;33m)\u001b[0m\u001b[1;33m\u001b[0m\u001b[1;33m\u001b[0m\u001b[0m\n\u001b[0;32m     18\u001b[0m     \u001b[0mquery\u001b[0m \u001b[1;33m=\u001b[0m \u001b[0msoup\u001b[0m\u001b[1;33m.\u001b[0m\u001b[0mfind\u001b[0m\u001b[1;33m(\u001b[0m\u001b[1;34m\"div\"\u001b[0m\u001b[1;33m,\u001b[0m \u001b[0mclass_\u001b[0m\u001b[1;33m=\u001b[0m\u001b[1;34m\"handlebarData theme_is_whitehot\"\u001b[0m\u001b[1;33m)\u001b[0m\u001b[1;33m.\u001b[0m\u001b[0mattrs\u001b[0m\u001b[1;33m\u001b[0m\u001b[1;33m\u001b[0m\u001b[0m\n",
      "\u001b[1;32m~\\Anaconda3\\lib\\site-packages\\requests\\api.py\u001b[0m in \u001b[0;36mget\u001b[1;34m(url, params, **kwargs)\u001b[0m\n\u001b[0;32m     73\u001b[0m \u001b[1;33m\u001b[0m\u001b[0m\n\u001b[0;32m     74\u001b[0m     \u001b[0mkwargs\u001b[0m\u001b[1;33m.\u001b[0m\u001b[0msetdefault\u001b[0m\u001b[1;33m(\u001b[0m\u001b[1;34m'allow_redirects'\u001b[0m\u001b[1;33m,\u001b[0m \u001b[1;32mTrue\u001b[0m\u001b[1;33m)\u001b[0m\u001b[1;33m\u001b[0m\u001b[1;33m\u001b[0m\u001b[0m\n\u001b[1;32m---> 75\u001b[1;33m     \u001b[1;32mreturn\u001b[0m \u001b[0mrequest\u001b[0m\u001b[1;33m(\u001b[0m\u001b[1;34m'get'\u001b[0m\u001b[1;33m,\u001b[0m \u001b[0murl\u001b[0m\u001b[1;33m,\u001b[0m \u001b[0mparams\u001b[0m\u001b[1;33m=\u001b[0m\u001b[0mparams\u001b[0m\u001b[1;33m,\u001b[0m \u001b[1;33m**\u001b[0m\u001b[0mkwargs\u001b[0m\u001b[1;33m)\u001b[0m\u001b[1;33m\u001b[0m\u001b[1;33m\u001b[0m\u001b[0m\n\u001b[0m\u001b[0;32m     76\u001b[0m \u001b[1;33m\u001b[0m\u001b[0m\n\u001b[0;32m     77\u001b[0m \u001b[1;33m\u001b[0m\u001b[0m\n",
      "\u001b[1;32m~\\Anaconda3\\lib\\site-packages\\requests\\api.py\u001b[0m in \u001b[0;36mrequest\u001b[1;34m(method, url, **kwargs)\u001b[0m\n\u001b[0;32m     58\u001b[0m     \u001b[1;31m# cases, and look like a memory leak in others.\u001b[0m\u001b[1;33m\u001b[0m\u001b[1;33m\u001b[0m\u001b[1;33m\u001b[0m\u001b[0m\n\u001b[0;32m     59\u001b[0m     \u001b[1;32mwith\u001b[0m \u001b[0msessions\u001b[0m\u001b[1;33m.\u001b[0m\u001b[0mSession\u001b[0m\u001b[1;33m(\u001b[0m\u001b[1;33m)\u001b[0m \u001b[1;32mas\u001b[0m \u001b[0msession\u001b[0m\u001b[1;33m:\u001b[0m\u001b[1;33m\u001b[0m\u001b[1;33m\u001b[0m\u001b[0m\n\u001b[1;32m---> 60\u001b[1;33m         \u001b[1;32mreturn\u001b[0m \u001b[0msession\u001b[0m\u001b[1;33m.\u001b[0m\u001b[0mrequest\u001b[0m\u001b[1;33m(\u001b[0m\u001b[0mmethod\u001b[0m\u001b[1;33m=\u001b[0m\u001b[0mmethod\u001b[0m\u001b[1;33m,\u001b[0m \u001b[0murl\u001b[0m\u001b[1;33m=\u001b[0m\u001b[0murl\u001b[0m\u001b[1;33m,\u001b[0m \u001b[1;33m**\u001b[0m\u001b[0mkwargs\u001b[0m\u001b[1;33m)\u001b[0m\u001b[1;33m\u001b[0m\u001b[1;33m\u001b[0m\u001b[0m\n\u001b[0m\u001b[0;32m     61\u001b[0m \u001b[1;33m\u001b[0m\u001b[0m\n\u001b[0;32m     62\u001b[0m \u001b[1;33m\u001b[0m\u001b[0m\n",
      "\u001b[1;32m~\\Anaconda3\\lib\\site-packages\\requests\\sessions.py\u001b[0m in \u001b[0;36mrequest\u001b[1;34m(self, method, url, params, data, headers, cookies, files, auth, timeout, allow_redirects, proxies, hooks, stream, verify, cert, json)\u001b[0m\n\u001b[0;32m    517\u001b[0m             \u001b[0mhooks\u001b[0m\u001b[1;33m=\u001b[0m\u001b[0mhooks\u001b[0m\u001b[1;33m,\u001b[0m\u001b[1;33m\u001b[0m\u001b[1;33m\u001b[0m\u001b[0m\n\u001b[0;32m    518\u001b[0m         )\n\u001b[1;32m--> 519\u001b[1;33m         \u001b[0mprep\u001b[0m \u001b[1;33m=\u001b[0m \u001b[0mself\u001b[0m\u001b[1;33m.\u001b[0m\u001b[0mprepare_request\u001b[0m\u001b[1;33m(\u001b[0m\u001b[0mreq\u001b[0m\u001b[1;33m)\u001b[0m\u001b[1;33m\u001b[0m\u001b[1;33m\u001b[0m\u001b[0m\n\u001b[0m\u001b[0;32m    520\u001b[0m \u001b[1;33m\u001b[0m\u001b[0m\n\u001b[0;32m    521\u001b[0m         \u001b[0mproxies\u001b[0m \u001b[1;33m=\u001b[0m \u001b[0mproxies\u001b[0m \u001b[1;32mor\u001b[0m \u001b[1;33m{\u001b[0m\u001b[1;33m}\u001b[0m\u001b[1;33m\u001b[0m\u001b[1;33m\u001b[0m\u001b[0m\n",
      "\u001b[1;32m~\\Anaconda3\\lib\\site-packages\\requests\\sessions.py\u001b[0m in \u001b[0;36mprepare_request\u001b[1;34m(self, request)\u001b[0m\n\u001b[0;32m    460\u001b[0m             \u001b[0mauth\u001b[0m\u001b[1;33m=\u001b[0m\u001b[0mmerge_setting\u001b[0m\u001b[1;33m(\u001b[0m\u001b[0mauth\u001b[0m\u001b[1;33m,\u001b[0m \u001b[0mself\u001b[0m\u001b[1;33m.\u001b[0m\u001b[0mauth\u001b[0m\u001b[1;33m)\u001b[0m\u001b[1;33m,\u001b[0m\u001b[1;33m\u001b[0m\u001b[1;33m\u001b[0m\u001b[0m\n\u001b[0;32m    461\u001b[0m             \u001b[0mcookies\u001b[0m\u001b[1;33m=\u001b[0m\u001b[0mmerged_cookies\u001b[0m\u001b[1;33m,\u001b[0m\u001b[1;33m\u001b[0m\u001b[1;33m\u001b[0m\u001b[0m\n\u001b[1;32m--> 462\u001b[1;33m             \u001b[0mhooks\u001b[0m\u001b[1;33m=\u001b[0m\u001b[0mmerge_hooks\u001b[0m\u001b[1;33m(\u001b[0m\u001b[0mrequest\u001b[0m\u001b[1;33m.\u001b[0m\u001b[0mhooks\u001b[0m\u001b[1;33m,\u001b[0m \u001b[0mself\u001b[0m\u001b[1;33m.\u001b[0m\u001b[0mhooks\u001b[0m\u001b[1;33m)\u001b[0m\u001b[1;33m,\u001b[0m\u001b[1;33m\u001b[0m\u001b[1;33m\u001b[0m\u001b[0m\n\u001b[0m\u001b[0;32m    463\u001b[0m         )\n\u001b[0;32m    464\u001b[0m         \u001b[1;32mreturn\u001b[0m \u001b[0mp\u001b[0m\u001b[1;33m\u001b[0m\u001b[1;33m\u001b[0m\u001b[0m\n",
      "\u001b[1;32m~\\Anaconda3\\lib\\site-packages\\requests\\models.py\u001b[0m in \u001b[0;36mprepare\u001b[1;34m(self, method, url, headers, files, data, params, auth, cookies, hooks, json)\u001b[0m\n\u001b[0;32m    311\u001b[0m \u001b[1;33m\u001b[0m\u001b[0m\n\u001b[0;32m    312\u001b[0m         \u001b[0mself\u001b[0m\u001b[1;33m.\u001b[0m\u001b[0mprepare_method\u001b[0m\u001b[1;33m(\u001b[0m\u001b[0mmethod\u001b[0m\u001b[1;33m)\u001b[0m\u001b[1;33m\u001b[0m\u001b[1;33m\u001b[0m\u001b[0m\n\u001b[1;32m--> 313\u001b[1;33m         \u001b[0mself\u001b[0m\u001b[1;33m.\u001b[0m\u001b[0mprepare_url\u001b[0m\u001b[1;33m(\u001b[0m\u001b[0murl\u001b[0m\u001b[1;33m,\u001b[0m \u001b[0mparams\u001b[0m\u001b[1;33m)\u001b[0m\u001b[1;33m\u001b[0m\u001b[1;33m\u001b[0m\u001b[0m\n\u001b[0m\u001b[0;32m    314\u001b[0m         \u001b[0mself\u001b[0m\u001b[1;33m.\u001b[0m\u001b[0mprepare_headers\u001b[0m\u001b[1;33m(\u001b[0m\u001b[0mheaders\u001b[0m\u001b[1;33m)\u001b[0m\u001b[1;33m\u001b[0m\u001b[1;33m\u001b[0m\u001b[0m\n\u001b[0;32m    315\u001b[0m         \u001b[0mself\u001b[0m\u001b[1;33m.\u001b[0m\u001b[0mprepare_cookies\u001b[0m\u001b[1;33m(\u001b[0m\u001b[0mcookies\u001b[0m\u001b[1;33m)\u001b[0m\u001b[1;33m\u001b[0m\u001b[1;33m\u001b[0m\u001b[0m\n",
      "\u001b[1;32m~\\Anaconda3\\lib\\site-packages\\requests\\models.py\u001b[0m in \u001b[0;36mprepare_url\u001b[1;34m(self, url, params)\u001b[0m\n\u001b[0;32m    385\u001b[0m             \u001b[0merror\u001b[0m \u001b[1;33m=\u001b[0m \u001b[0merror\u001b[0m\u001b[1;33m.\u001b[0m\u001b[0mformat\u001b[0m\u001b[1;33m(\u001b[0m\u001b[0mto_native_string\u001b[0m\u001b[1;33m(\u001b[0m\u001b[0murl\u001b[0m\u001b[1;33m,\u001b[0m \u001b[1;34m'utf8'\u001b[0m\u001b[1;33m)\u001b[0m\u001b[1;33m)\u001b[0m\u001b[1;33m\u001b[0m\u001b[1;33m\u001b[0m\u001b[0m\n\u001b[0;32m    386\u001b[0m \u001b[1;33m\u001b[0m\u001b[0m\n\u001b[1;32m--> 387\u001b[1;33m             \u001b[1;32mraise\u001b[0m \u001b[0mMissingSchema\u001b[0m\u001b[1;33m(\u001b[0m\u001b[0merror\u001b[0m\u001b[1;33m)\u001b[0m\u001b[1;33m\u001b[0m\u001b[1;33m\u001b[0m\u001b[0m\n\u001b[0m\u001b[0;32m    388\u001b[0m \u001b[1;33m\u001b[0m\u001b[0m\n\u001b[0;32m    389\u001b[0m         \u001b[1;32mif\u001b[0m \u001b[1;32mnot\u001b[0m \u001b[0mhost\u001b[0m\u001b[1;33m:\u001b[0m\u001b[1;33m\u001b[0m\u001b[1;33m\u001b[0m\u001b[0m\n",
      "\u001b[1;31mMissingSchema\u001b[0m: Invalid URL '': No schema supplied. Perhaps you meant http://?"
     ]
    }
   ],
   "source": [
    "# NOW, Try it on your own for one link!\n",
    "result = course_extract(\"\") # insert link\n",
    "result.to_clipboard(excel=True,sep='\\t') # copy the result, so you can paste it elsewhere\n",
    "#check the result\n",
    "result"
   ]
  },
  {
   "cell_type": "code",
   "execution_count": null,
   "metadata": {
    "collapsed": true
   },
   "outputs": [],
   "source": [
    "# NOW, Try it on your own for multiple link!\n",
    "url_list = [\"\", \"\", \"\"] # insert links, you can add as more links as you want\n",
    "multiple_results = multiple_extract(url_list)\n",
    "multiple_results.to_clipboard(excel=True,sep='\\t') # copy the result, so you can paste it elsewhere\n",
    "#check the result\n",
    "multiple_results"
   ]
  }
 ],
 "metadata": {
  "celltoolbar": "Hide code",
  "kernelspec": {
   "display_name": "Python 3",
   "language": "python",
   "name": "python3"
  },
  "language_info": {
   "codemirror_mode": {
    "name": "ipython",
    "version": 3
   },
   "file_extension": ".py",
   "mimetype": "text/x-python",
   "name": "python",
   "nbconvert_exporter": "python",
   "pygments_lexer": "ipython3",
   "version": "3.7.4"
  }
 },
 "nbformat": 4,
 "nbformat_minor": 2
}
